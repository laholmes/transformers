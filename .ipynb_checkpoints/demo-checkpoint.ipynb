{
 "cells": [
  {
   "cell_type": "code",
   "execution_count": 1,
   "metadata": {},
   "outputs": [],
   "source": [
    "from sklearn.pipeline import Pipeline, FeatureUnion\n",
    "import pandas as pd\n",
    "import fancyimpute\n",
    "\n",
    "from transformers.item_selector import ItemSelector\n",
    "from transformers.clip import Clip\n",
    "from transformers.knn_impute import KNNImpute\n",
    "from transformers.length import Length\n",
    "from transformers.m_to_km import MToKM\n",
    "from transformers.scale import Scale\n",
    "from transformers.strip_currency import StripCurrency"
   ]
  },
  {
   "cell_type": "code",
   "execution_count": 2,
   "metadata": {
    "collapsed": true
   },
   "outputs": [],
   "source": [
    "data = pd.read_csv('./test/sample.csv')"
   ]
  },
  {
   "cell_type": "code",
   "execution_count": 4,
   "metadata": {},
   "outputs": [],
   "source": [
    "pipeline = Pipeline([\n",
    "    ('features', FeatureUnion([\n",
    "        ('clip', Pipeline([\n",
    "            ('selector', ItemSelector(key='City')),\n",
    "            ('clip', Clip(3)),\n",
    "        ])),\n",
    "        ('knn_impute', Pipeline([\n",
    "            ('selector', ItemSelector(key='Size')),\n",
    "            ('knn_impute', KNNImpute(3)),\n",
    "        ])),\n",
    "        ('length', Pipeline([\n",
    "            ('selector', ItemSelector(key='Description')),\n",
    "            ('length', Length()),\n",
    "        ])),\n",
    "        ('m_to_km', Pipeline([\n",
    "            ('selector', ItemSelector(key='Radius')),\n",
    "            ('m_to_km', MToKM()),\n",
    "        ])),\n",
    "        ('scale', Pipeline([\n",
    "            ('selector', ItemSelector(key='Affordability')),\n",
    "            ('scale', Scale()),\n",
    "        ])),\n",
    "        ('strip_currency', Pipeline([\n",
    "            ('selector', ItemSelector(key='AverageIncome')),\n",
    "            ('strip_currency', StripCurrency()),\n",
    "        ]))\n",
    "    ]))\n",
    "])"
   ]
  },
  {
   "cell_type": "code",
   "execution_count": 5,
   "metadata": {},
   "outputs": [
    {
     "ename": "NameError",
     "evalue": "name 'X_train' is not defined",
     "output_type": "error",
     "traceback": [
      "\u001b[0;31m---------------------------------------------------------------------------\u001b[0m",
      "\u001b[0;31mNameError\u001b[0m                                 Traceback (most recent call last)",
      "\u001b[0;32m<ipython-input-5-037eb5726672>\u001b[0m in \u001b[0;36m<module>\u001b[0;34m()\u001b[0m\n\u001b[0;32m----> 1\u001b[0;31m \u001b[0mpipeline\u001b[0m\u001b[0;34m.\u001b[0m\u001b[0mfit\u001b[0m\u001b[0;34m(\u001b[0m\u001b[0mX_train\u001b[0m\u001b[0;34m,\u001b[0m \u001b[0my_train\u001b[0m\u001b[0;34m)\u001b[0m\u001b[0;34m\u001b[0m\u001b[0m\n\u001b[0m\u001b[1;32m      2\u001b[0m \u001b[0;34m\u001b[0m\u001b[0m\n\u001b[1;32m      3\u001b[0m \u001b[0mpipeline\u001b[0m\u001b[0;34m.\u001b[0m\u001b[0mpredict_proba\u001b[0m\u001b[0;34m(\u001b[0m\u001b[0mX_new\u001b[0m\u001b[0;34m)\u001b[0m\u001b[0;34m\u001b[0m\u001b[0m\n",
      "\u001b[0;31mNameError\u001b[0m: name 'X_train' is not defined"
     ]
    }
   ],
   "source": [
    "pipeline.predict_proba(X_new)"
   ]
  },
  {
   "cell_type": "code",
   "execution_count": null,
   "metadata": {
    "collapsed": true
   },
   "outputs": [],
   "source": []
  }
 ],
 "metadata": {
  "kernelspec": {
   "display_name": "Python 3",
   "language": "python",
   "name": "python3"
  },
  "language_info": {
   "codemirror_mode": {
    "name": "ipython",
    "version": 3
   },
   "file_extension": ".py",
   "mimetype": "text/x-python",
   "name": "python",
   "nbconvert_exporter": "python",
   "pygments_lexer": "ipython3",
   "version": "3.6.1"
  }
 },
 "nbformat": 4,
 "nbformat_minor": 2
}
